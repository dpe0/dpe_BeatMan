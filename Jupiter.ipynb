{
 "cells": [
  {
   "attachments": {},
   "cell_type": "markdown",
   "metadata": {},
   "source": [
    "# Beat Manipulator\n",
    "**1. imports**"
   ]
  },
  {
   "cell_type": "code",
   "execution_count": 1,
   "metadata": {},
   "outputs": [],
   "source": [
    "import BeatManipulator as bm, bm_wrapper as bmw, os, random"
   ]
  },
  {
   "attachments": {},
   "cell_type": "markdown",
   "metadata": {},
   "source": [
    "**2. Load a song**\n",
    "\n",
    "run one of the cells to open a song"
   ]
  },
  {
   "cell_type": "code",
   "execution_count": 2,
   "metadata": {
    "tags": []
   },
   "outputs": [
    {
     "name": "stdout",
     "output_type": "stream",
     "text": [
      "Loaded Culprate - My Rock; \n"
     ]
    }
   ],
   "source": [
    "# open a song from a path\n",
    "song_path='F:/Stuff/Music/Tracks/Culprate - My Rock.mp3'\n",
    "\n",
    "song=bm.song(song_path)"
   ]
  },
  {
   "cell_type": "code",
   "execution_count": 3,
   "metadata": {},
   "outputs": [
    {
     "name": "stdout",
     "output_type": "stream",
     "text": [
      "Loaded Culprate - My Rock; \n"
     ]
    }
   ],
   "source": [
    "# or select a random file from a folder\n",
    "song_path = 'F:/Stuff/Music/Tracks/'+random.choice(os.listdir(\"F:\\Stuff\\Music\\Tracks\"))\n",
    "\n",
    "song=bm.song(song_path)"
   ]
  },
  {
   "attachments": {},
   "cell_type": "markdown",
   "metadata": {},
   "source": [
    "**3. test beat dection**\n",
    "\n",
    "Run the next cell. An audio file will be exported next to BeatManipulator.py. Each beep is one beat, the highest beep should be on the first beat, and the lowest - on fourth. Kick + snare is two beats and should have two beeps on them. If needed, change scale and shift and run it again, until it is fixed, and run the second cell."
   ]
  },
  {
   "cell_type": "code",
   "execution_count": 7,
   "metadata": {},
   "outputs": [],
   "source": [
    "%%capture\n",
    "scale, shift = 1,0\n",
    "\n",
    "bmw.lib_test(song, scale=scale, shift=shift)"
   ]
  },
  {
   "cell_type": "code",
   "execution_count": null,
   "metadata": {},
   "outputs": [],
   "source": [
    "# only run this if beatmap needs to be fixed\n",
    "bm.fix_beatmap(song_path, scale=scale, shift=shift)"
   ]
  },
  {
   "attachments": {},
   "cell_type": "markdown",
   "metadata": {},
   "source": [
    "**4. Beatswap**\n",
    "\n",
    "use any of the cells below as many times as you want. Song will be exported next to BeatManipulator.py"
   ]
  },
  {
   "cell_type": "code",
   "execution_count": 8,
   "metadata": {},
   "outputs": [
    {
     "name": "stdout",
     "output_type": "stream",
     "text": [
      "___\n",
      "autotrimming; \n",
      "beatswapping with 1 3 2 4; \n",
      "writing Culprate - My Rock_BeatSwap.mp3 with pedalboard.io\n"
     ]
    }
   ],
   "source": [
    "# beatswap using a pattern\n",
    "pattern='1, 3, 2, 4'\n",
    "scale=1\n",
    "shift=0\n",
    "\n",
    "song.quick_beatswap(output='', pattern=pattern, scale=scale, shift=shift)"
   ]
  },
  {
   "cell_type": "code",
   "execution_count": 3,
   "metadata": {},
   "outputs": [
    {
     "name": "stdout",
     "output_type": "stream",
     "text": [
      "___\n",
      "analyzing beats using madmom.BeatDetectionProcessor; \n",
      "autotrimming; \n",
      "scale=0.5; \n",
      "beatswapping with 0:3 4:4.5 7 4:4.5 11 4:4.5 7 4:4.5 11 8:8.5 7 8:8.5 11 8:8.5 7 8:8.5 11 16; \n",
      "writing Culprate - My Rock (dotted snares 0.5 A).mp3 with pedalboard.io\n"
     ]
    }
   ],
   "source": [
    "# use a preset from presets.json\n",
    "preset='dotted snares 0.5 A'\n",
    "\n",
    "bmw.use_preset('', song, preset, scale=1, shift=0, beat='normal', test=False)"
   ]
  },
  {
   "cell_type": "code",
   "execution_count": 5,
   "metadata": {},
   "outputs": [
    {
     "name": "stdout",
     "output_type": "stream",
     "text": [
      "___\n",
      "autotrimming; \n",
      "scale=0.5; \n",
      "beatswapping with 1 1 |2:3.5 2:3.5 2:3.5 2:3.5 8!; \n",
      "writing Culprate - My Rock (BS6).mp3 with pedalboard.io\n"
     ]
    }
   ],
   "source": [
    "# use a random preset\n",
    "bmw.use_preset('', song, None, scale=1, shift=0, test=False)"
   ]
  },
  {
   "cell_type": "code",
   "execution_count": null,
   "metadata": {},
   "outputs": [],
   "source": [
    "# use all presets\n",
    "bmw.all('', song, scale=1, shift=0, beat='normal', test=False)"
   ]
  },
  {
   "cell_type": "code",
   "execution_count": null,
   "metadata": {},
   "outputs": [],
   "source": [
    "# generate an OSU! beatmap\n",
    "song.generate_hitmap()\n",
    "song.osu()"
   ]
  },
  {
   "attachments": {},
   "cell_type": "markdown",
   "metadata": {},
   "source": [
    "**Other**"
   ]
  },
  {
   "cell_type": "code",
   "execution_count": null,
   "metadata": {},
   "outputs": [],
   "source": [
    "# use random presets on random files\n",
    "try:\n",
    "    while True:\n",
    "        filename = 'F:/Stuff/Music/Tracks/'+random.choice(os.listdir(\"F:\\Stuff\\Music\\Tracks\"))\n",
    "        bmw.use_preset('', filename, None, scale=scale, shift=shift, test=False)\n",
    "except KeyboardInterrupt: print('Operation stopped.')"
   ]
  },
  {
   "cell_type": "code",
   "execution_count": 6,
   "metadata": {},
   "outputs": [],
   "source": [
    "# convert BeatSaber beatmap to OSU! beatmap\n",
    "path_to_zip=''\n",
    "\n",
    "import Saber2Osu as s2o\n",
    "osu=s2o.osu_map(filename=path_to_zip, threshold=0.3, declumping=100)"
   ]
  }
 ],
 "metadata": {
  "kernelspec": {
   "display_name": "audio310",
   "language": "python",
   "name": "python3"
  },
  "language_info": {
   "codemirror_mode": {
    "name": "ipython",
    "version": 3
   },
   "file_extension": ".py",
   "mimetype": "text/x-python",
   "name": "python",
   "nbconvert_exporter": "python",
   "pygments_lexer": "ipython3",
   "version": "3.10.8"
  },
  "orig_nbformat": 4,
  "vscode": {
   "interpreter": {
    "hash": "b64dfde5b5eea38140c28e0a3b4c0e991703864ea69ddcf0068777b77797cd12"
   }
  }
 },
 "nbformat": 4,
 "nbformat_minor": 2
}
